{
 "cells": [
  {
   "cell_type": "code",
   "execution_count": 40,
   "metadata": {},
   "outputs": [],
   "source": [
    "from nltk.corpus import stopwords\n",
    "from nltk.stem import WordNetLemmatizer\n",
    "from nltk.tokenize import word_tokenize\n",
    "import spacy\n",
    "import spacy.cli \n",
    "import pandas as pd\n",
    "\n",
    "#import nltk\n",
    "#nltk.download('punkt_tab')\n",
    "#nltk.download('wordnet')\n",
    "#nltk.download('stopwords')"
   ]
  },
  {
   "cell_type": "code",
   "execution_count": 29,
   "metadata": {},
   "outputs": [],
   "source": [
    "#get data \n",
    "rahmen_df = pd.read_csv('./data/kv_contracts_rahmen_all_years.csv')"
   ]
  },
  {
   "cell_type": "code",
   "execution_count": 23,
   "metadata": {},
   "outputs": [],
   "source": [
    "#only look at first contract for now\n",
    "example = rahmen_df.loc[0:1,:]"
   ]
  },
  {
   "cell_type": "code",
   "execution_count": 21,
   "metadata": {},
   "outputs": [],
   "source": [
    "#lemmatize the text in the contracts using spacy and the \"de_core_news_md\" package\n",
    "#takes about 4 hours\n",
    "#spacy.cli.download(\"de_core_news_md\")\n",
    "\n",
    "nlp = spacy.load('de_core_news_md')\n",
    "rahmen_df['lemmatized_text'] = rahmen_df['subcontract_text'].apply(lambda x: [token.lemma_ for token in nlp(x)])\n"
   ]
  },
  {
   "cell_type": "code",
   "execution_count": 27,
   "metadata": {},
   "outputs": [],
   "source": [
    "#put everything in lowercase\n",
    "rahmen_df['lemmatized_text'] = rahmen_df['lemmatized_text'].apply(lambda word_list: [word.lower() for word in word_list])"
   ]
  },
  {
   "cell_type": "code",
   "execution_count": 28,
   "metadata": {},
   "outputs": [],
   "source": [
    "#save so we don't have to do it all again\n",
    "rahmen_df.to_csv('./data/kv_contracts_rahmen_lemmatized_small_all_years.csv', index=False)"
   ]
  }
 ],
 "metadata": {
  "kernelspec": {
   "display_name": "cb_scraping",
   "language": "python",
   "name": "python3"
  },
  "language_info": {
   "codemirror_mode": {
    "name": "ipython",
    "version": 3
   },
   "file_extension": ".py",
   "mimetype": "text/x-python",
   "name": "python",
   "nbconvert_exporter": "python",
   "pygments_lexer": "ipython3",
   "version": "3.12.3"
  }
 },
 "nbformat": 4,
 "nbformat_minor": 2
}

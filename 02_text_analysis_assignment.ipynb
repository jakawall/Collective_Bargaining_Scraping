{
 "cells": [
  {
   "cell_type": "code",
   "execution_count": 1,
   "metadata": {},
   "outputs": [],
   "source": [
    "#from nltk.corpus import stopwords\n",
    "#from nltk.stem import WordNetLemmatizer\n",
    "#from nltk.tokenize import word_tokenize\n",
    "import spacy\n",
    "import spacy.cli \n",
    "import pandas as pd\n",
    "import matplotlib.pyplot as plt\n",
    "\n",
    "#import nltk\n",
    "#nltk.download('punkt_tab')\n",
    "#nltk.download('wordnet')\n",
    "#nltk.download('stopwords')"
   ]
  },
  {
   "cell_type": "code",
   "execution_count": 2,
   "metadata": {},
   "outputs": [],
   "source": [
    "#get data \n",
    "rahmen_df = pd.read_csv('./data/kv_contracts_rahmen_all_years_sample.csv')"
   ]
  },
  {
   "cell_type": "code",
   "execution_count": 3,
   "metadata": {},
   "outputs": [],
   "source": [
    "#lemmatize the text in the contracts using spacy and the \"de_core_news_md\" package\n",
    "#takes about 4 hours for the real file\n",
    "spacy.cli.download(\"de_core_news_md\")\n",
    "\n",
    "nlp = spacy.load('de_core_news_md')\n",
    "rahmen_df['lemmatized_text'] = rahmen_df['subcontract_text'].apply(lambda x: [token.lemma_ for token in nlp(x)])\n"
   ]
  },
  {
   "cell_type": "code",
   "execution_count": 4,
   "metadata": {},
   "outputs": [],
   "source": [
    "#put everything in lowercase\n",
    "rahmen_df['lemmatized_text'] = rahmen_df['lemmatized_text'].apply(lambda word_list: [word.lower() for word in word_list])"
   ]
  },
  {
   "cell_type": "code",
   "execution_count": 6,
   "metadata": {},
   "outputs": [],
   "source": [
    "#save so we don't have to do it all again\n",
    "rahmen_df.to_csv('./data/kv_contracts_rahmen_lemmatized_small_all_years_sample.csv', index=False)"
   ]
  },
  {
   "cell_type": "code",
   "execution_count": 7,
   "metadata": {},
   "outputs": [],
   "source": [
    "nlp = spacy.load('de_core_news_md')\n",
    "#example = rahmen_df.loc[0:1,:]\n",
    "words_to_search = ['urlaub', 'gehalt', 'kündigung', 'flexibel', 'arbeitszeit', 'abfertigung', 'karenz', 'weiterbildung', 'kinder', 'teilzeit', 'krankheit']\n",
    "\n",
    "lemmatized_search_words = [token.lemma_.lower() for word in words_to_search for token in nlp(word)]\n",
    "\n",
    "def count_word_frequency(row, word):\n",
    "    return row.count(word)\n",
    "\n",
    "for word in lemmatized_search_words:\n",
    "    rahmen_df[f'freq_{word}'] = rahmen_df['lemmatized_text'].apply(lambda row: count_word_frequency(row, word))\n",
    "    #example[f'freq_{word}'] = example['lemmatized_text'].apply(lambda row: count_word_frequency(row, word))\n",
    "\n",
    "#add length of contract\n",
    "rahmen_df['word_count'] = rahmen_df['lemmatized_text'].apply(len)"
   ]
  },
  {
   "cell_type": "code",
   "execution_count": null,
   "metadata": {},
   "outputs": [],
   "source": [
    "#with the sample data scraped using the assignment script, we only have one year, making the resulting figure somewhat pointless.  \n",
    "\n",
    "#development of frequency of words by year\n",
    "frequency_columns = [f'freq_{word}' for word in lemmatized_search_words]\n",
    "\n",
    "average_freq_by_year = rahmen_df.groupby('year')[frequency_columns].mean()\n",
    "plt.figure(figsize=(10, 6))\n",
    "\n",
    "for word in lemmatized_search_words:\n",
    "    plt.plot(average_freq_by_year.index, average_freq_by_year[f'freq_{word}'], marker='o', label=word)\n",
    "\n",
    "plt.title('Average Frequency of Words by Year', fontsize=14)\n",
    "plt.xlabel('Year', fontsize=12)\n",
    "plt.ylabel('Average Frequency', fontsize=12)\n",
    "plt.legend(title='Words')\n",
    "plt.grid(True)\n",
    "plt.tight_layout()\n",
    "\n",
    "plt.savefig(\"./output/word_frequencies_year_sample.png\")"
   ]
  }
 ],
 "metadata": {
  "kernelspec": {
   "display_name": "cb_scraping",
   "language": "python",
   "name": "python3"
  },
  "language_info": {
   "codemirror_mode": {
    "name": "ipython",
    "version": 3
   },
   "file_extension": ".py",
   "mimetype": "text/x-python",
   "name": "python",
   "nbconvert_exporter": "python",
   "pygments_lexer": "ipython3",
   "version": "3.12.5"
  }
 },
 "nbformat": 4,
 "nbformat_minor": 2
}

{
 "cells": [
  {
   "cell_type": "code",
   "execution_count": 33,
   "metadata": {},
   "outputs": [],
   "source": [
    "import os\n",
    "from selenium import webdriver\n",
    "from selenium.webdriver.common.by import By\n",
    "from selenium.webdriver.support.ui import WebDriverWait\n",
    "from selenium.webdriver.support import expected_conditions as EC\n",
    "from selenium.webdriver.support.ui import Select\n",
    "from selenium.webdriver.chrome.options import Options\n",
    "from selenium.webdriver.common.keys import Keys\n",
    "import time\n",
    "from bs4 import BeautifulSoup\n",
    "import pandas as pd\n",
    "\n",
    "\n"
   ]
  },
  {
   "cell_type": "code",
   "execution_count": 3,
   "metadata": {},
   "outputs": [],
   "source": [
    "chrome_options = Options()\n",
    "chrome_options.add_argument(\"--disable-search-engine-choice-screen\")\n",
    "driver = webdriver.Chrome(options=chrome_options)\n"
   ]
  },
  {
   "cell_type": "code",
   "execution_count": 37,
   "metadata": {},
   "outputs": [],
   "source": [
    "#open page\n",
    "driver = webdriver.Chrome(options=chrome_options)\n",
    "driver.get(\"https://digital.oegbverlag.at/login?r=https%3A%2F%2Fdigital.oegbverlag.at%2Fkvsystem\")\n",
    "time.sleep(3)\n",
    "\n",
    "#for some reason I have to manually click on the \"reject cookies\" option, can't find a way to make the webdriver do it \n",
    "#select_element = driver.find_element(By.XPATH, '//*[@id=\"uc-center-container\"]/div[2]/div/div/div/div/button[2]')\n",
    "#select_element.click()\n"
   ]
  },
  {
   "cell_type": "code",
   "execution_count": 38,
   "metadata": {},
   "outputs": [],
   "source": [
    "#select \"für ögbverlag kunden\"\n",
    "element=WebDriverWait(driver, 30000000).until(EC. element_to_be_clickable((By.XPATH, \"/html/body/div[1]/div/div[2]/div/div[1]/div[3]/div[2]/button\")))\n",
    "select_element = driver.find_element(By.XPATH, '/html/body/div[1]/div/div[2]/div/div[1]/div[3]/div[2]/button')\n",
    "select_element.click()"
   ]
  },
  {
   "cell_type": "code",
   "execution_count": 39,
   "metadata": {},
   "outputs": [],
   "source": [
    "#login\n",
    "username = driver.find_element(By.ID, \"username\")\n",
    "password = driver.find_element(By.ID, \"password\")\n",
    "\n",
    "username.send_keys(\"jakob.wall@econ.uzh.ch\")\n",
    "password.send_keys(\"D00rcityoverhere\")\n",
    "\n",
    "driver.find_element(By.ID, \"login\").click()"
   ]
  },
  {
   "cell_type": "code",
   "execution_count": 40,
   "metadata": {},
   "outputs": [],
   "source": [
    "#select \"erweiterte Suche and search\"\n",
    "element=WebDriverWait(driver, 30000000).until(EC. element_to_be_clickable((By.XPATH, \"/html/body/div[1]/div/div[2]/div[1]/div[2]/div/div/div[2]\")))\n",
    "select_element = driver.find_element(By.XPATH, '/html/body/div[1]/div/div[2]/div[1]/div[2]/div/div/div[2]')\n",
    "select_element.click()\n"
   ]
  },
  {
   "cell_type": "code",
   "execution_count": 65,
   "metadata": {},
   "outputs": [
    {
     "name": "stdout",
     "output_type": "stream",
     "text": [
      "0\n",
      "1\n",
      "2\n",
      "3\n",
      "4\n",
      "5\n",
      "6\n",
      "7\n",
      "8\n",
      "9\n",
      "10\n",
      "11\n",
      "12\n",
      "13\n",
      "14\n",
      "15\n",
      "16\n",
      "17\n",
      "18\n",
      "19\n",
      "20\n",
      "21\n",
      "22\n",
      "23\n",
      "24\n",
      "25\n",
      "26\n",
      "27\n",
      "28\n",
      "29\n",
      "30\n",
      "31\n",
      "32\n",
      "33\n",
      "34\n",
      "35\n",
      "36\n",
      "37\n",
      "38\n",
      "39\n",
      "0\n",
      "1\n",
      "2\n",
      "3\n",
      "4\n",
      "5\n",
      "6\n",
      "7\n",
      "8\n",
      "9\n",
      "10\n",
      "11\n",
      "12\n",
      "13\n",
      "14\n",
      "15\n",
      "16\n",
      "17\n",
      "18\n",
      "19\n",
      "20\n",
      "21\n",
      "22\n",
      "23\n",
      "24\n",
      "25\n",
      "26\n",
      "27\n",
      "28\n",
      "29\n",
      "30\n",
      "31\n",
      "32\n",
      "33\n",
      "34\n",
      "35\n",
      "36\n",
      "37\n",
      "38\n",
      "39\n"
     ]
    }
   ],
   "source": [
    "all_years = []\n",
    "for year in range(1995,1997):\n",
    "    driver.get(\"https://digital.oegbverlag.at/kvsystem?q=&v=\"+str(year)+\"-01-01\")\n",
    "    #print(\"01.01.\" + str(year))\n",
    "\n",
    "    #select date\n",
    "    #date = driver.find_element(By.XPATH, \"/html/body/div[1]/div/div[2]/div[1]/div[2]/div/div[2]/div/div/div[1]/div[1]/div/div/div[2]/div/input\")\n",
    "    #date.send_keys(Keys.CONTROL + \"a\")\n",
    "    #date.send_keys(Keys.DELETE)\n",
    "    #date.send_keys(\"01.01.\" + str(year))\n",
    "\n",
    "    #search\n",
    "    element=WebDriverWait(driver, 30000000).until(EC. element_to_be_clickable((By.XPATH, \"/html/body/div[1]/div/div[2]/div/div[2]/div/div[1]/div[1]/div[1]/div/input\")))\n",
    "    searchbar = driver.find_element(By.XPATH, \"/html/body/div[1]/div/div[2]/div[1]/div[2]/div/div[1]/div[1]/div[1]/div/input\")\n",
    "    searchbar.send_keys(Keys.RETURN)\n",
    "\n",
    "    #I need to click on \"mehr anzeigen\" until the whole list is visible. \n",
    "    #Unfortunately, the site does not work perfectly, and keeps on displaying the button \"mehr anzeigen\" as a clickable element even though we are at the end. As a solution, I just clik 40 times, which is always enough\n",
    "    #  Unfortunately, the site does not work perf\n",
    "    #select \"mehr anzeigen\"\n",
    "    for i in range (40):\n",
    "        element=WebDriverWait(driver, 30000000).until(EC. element_to_be_clickable((By.XPATH, \"/html/body/div[1]/div/div[2]/div[2]/div/div[2]/button\")))\n",
    "        select_element = driver.find_element(By.XPATH, '/html/body/div[1]/div/div[2]/div[2]/div/div[2]/button')\n",
    "        select_element.click()\n",
    "        #need to wait a bit, otherwise the site doesn't respond\n",
    "        time.sleep(2)\n",
    "        print(i)\n",
    "\n",
    "    soup = BeautifulSoup(driver.page_source, 'html.parser')\n",
    "\n",
    "    links = soup.find_all('a')\n",
    "    # Create a list to store (text, link) tuples\n",
    "    result_list = []\n",
    "    # Loop through each <a> tag\n",
    "    for link in links:\n",
    "        # Get the href attribute (the link)\n",
    "        href = link.get('href')\n",
    "        \n",
    "        # Get the text inside the <span> (if any)\n",
    "        text = link.get_text().strip()  # .strip() removes any extra whitespace\n",
    "        \n",
    "        if href and text:\n",
    "            result_list.append((text, href))\n",
    "\n",
    "    # Filter the list to keep only elements where the link starts with \"/kvsystem\"\n",
    "    filtered_list = [(text, link) for text, link in result_list if link.startswith(\"/kvsystem/\")]\n",
    "\n",
    "    all_years.append(filtered_list)\n"
   ]
  },
  {
   "cell_type": "code",
   "execution_count": null,
   "metadata": {},
   "outputs": [],
   "source": [
    "#I need to click on \"mehr anzeigen\" until the whole list is visible. \n",
    "#Unfortunately, the site does not work perfectly, and keeps on displaying the button \"mehr anzeigen\" as a clickable element even though we are at the end. As a solution, I just clik 40 times, which is always enough\n",
    "#  Unfortunately, the site does not work perf\n",
    "#select \"mehr anzeigen\"\n",
    "for i in range (40):\n",
    "    element=WebDriverWait(driver, 30000000).until(EC. element_to_be_clickable((By.XPATH, \"/html/body/div[1]/div/div[2]/div[2]/div/div[2]/button\")))\n",
    "    select_element = driver.find_element(By.XPATH, '/html/body/div[1]/div/div[2]/div[2]/div/div[2]/button')\n",
    "    select_element.click()\n",
    "    #need to wait a bit, otherwise the site doesn't respond\n",
    "    time.sleep(2)\n",
    "    print(i)\n",
    "\n",
    "soup = BeautifulSoup(driver.page_source, 'html.parser')"
   ]
  },
  {
   "cell_type": "code",
   "execution_count": 35,
   "metadata": {},
   "outputs": [],
   "source": [
    "links = soup.find_all('a')\n",
    "# Create a list to store (text, link) tuples\n",
    "result_list = []\n",
    "# Loop through each <a> tag\n",
    "for link in links:\n",
    "    # Get the href attribute (the link)\n",
    "    href = link.get('href')\n",
    "    \n",
    "    # Get the text inside the <span> (if any)\n",
    "    text = link.get_text().strip()  # .strip() removes any extra whitespace\n",
    "    \n",
    "    if href and text:\n",
    "        result_list.append((text, href))\n",
    "\n",
    "# Filter the list to keep only elements where the link starts with \"/kvsystem\"\n",
    "filtered_list = [(text, link) for text, link in result_list if link.startswith(\"/kvsystem/\")]\n",
    "\n",
    "df = pd.DataFrame(filtered_list, columns=['Text', 'Link'])"
   ]
  },
  {
   "cell_type": "code",
   "execution_count": 61,
   "metadata": {},
   "outputs": [
    {
     "name": "stdout",
     "output_type": "stream",
     "text": [
      "01.01.1995\n",
      "01.01.1996\n",
      "01.01.1997\n",
      "01.01.1998\n",
      "01.01.1999\n",
      "01.01.2000\n",
      "01.01.2001\n",
      "01.01.2002\n",
      "01.01.2003\n",
      "01.01.2004\n",
      "01.01.2005\n",
      "01.01.2006\n",
      "01.01.2007\n",
      "01.01.2008\n",
      "01.01.2009\n",
      "01.01.2010\n",
      "01.01.2011\n",
      "01.01.2012\n",
      "01.01.2013\n",
      "01.01.2014\n",
      "01.01.2015\n",
      "01.01.2016\n",
      "01.01.2017\n",
      "01.01.2018\n",
      "01.01.2019\n",
      "01.01.2020\n"
     ]
    }
   ],
   "source": [
    "\n"
   ]
  },
  {
   "cell_type": "code",
   "execution_count": 59,
   "metadata": {},
   "outputs": [
    {
     "data": {
      "text/plain": [
       "4"
      ]
     },
     "execution_count": 59,
     "metadata": {},
     "output_type": "execute_result"
    }
   ],
   "source": [
    "\n"
   ]
  }
 ],
 "metadata": {
  "kernelspec": {
   "display_name": "cb_scraping",
   "language": "python",
   "name": "python3"
  },
  "language_info": {
   "codemirror_mode": {
    "name": "ipython",
    "version": 3
   },
   "file_extension": ".py",
   "mimetype": "text/x-python",
   "name": "python",
   "nbconvert_exporter": "python",
   "pygments_lexer": "ipython3",
   "version": "3.12.5"
  }
 },
 "nbformat": 4,
 "nbformat_minor": 2
}

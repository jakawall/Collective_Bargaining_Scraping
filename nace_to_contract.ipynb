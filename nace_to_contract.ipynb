{
 "cells": [
  {
   "cell_type": "code",
   "execution_count": 10,
   "metadata": {},
   "outputs": [],
   "source": [
    "from openai import OpenAI\n",
    "\n",
    "OPENAI_API_KEY =  \"API Key\" "
   ]
  },
  {
   "cell_type": "code",
   "execution_count": null,
   "metadata": {},
   "outputs": [],
   "source": [
    "kwargs = {'temperature':0,\n",
    "          'max_tokens':300,\n",
    "          'model':'gpt-3.5-turbo'}"
   ]
  },
  {
   "cell_type": "code",
   "execution_count": null,
   "metadata": {},
   "outputs": [],
   "source": [
    "content_message = \"You are a helpful AI assistant.\"\n",
    "openai_query_framework = \"Give me topics for all these sentences: {text}  Answer:\"\n",
    "text = \"\"\"\n",
    "    \"I love to eat pizza. Pizza is my favorite food.\",\n",
    "    \"The cat is playing with the ball.\",\n",
    "    \"I enjoy reading books on machine learning.\",\n",
    "    \"The dog is chasing the cat.\",\n",
    "    \"Pizza and pasta are popular Italian dishes.\" \n",
    "\"\"\""
   ]
  },
  {
   "cell_type": "code",
   "execution_count": null,
   "metadata": {},
   "outputs": [],
   "source": [
    "client = OpenAI(api_key=OPENAI_API_KEY)\n",
    "\n",
    "# ChatGPT\n",
    "kwargs['messages']=[{\"role\": \"system\", \"content\": content_message},\n",
    "                    {\"role\": \"user\", \"content\": openai_query_framework.format(text=text)},\n",
    "                ]\n",
    "response = client.chat.completions.create(**kwargs)"
   ]
  },
  {
   "cell_type": "code",
   "execution_count": null,
   "metadata": {},
   "outputs": [],
   "source": [
    "print(response.choices[0].message.content)"
   ]
  }
 ],
 "metadata": {
  "kernelspec": {
   "display_name": "cb_scraping",
   "language": "python",
   "name": "python3"
  },
  "language_info": {
   "codemirror_mode": {
    "name": "ipython",
    "version": 3
   },
   "file_extension": ".py",
   "mimetype": "text/x-python",
   "name": "python",
   "nbconvert_exporter": "python",
   "pygments_lexer": "ipython3",
   "version": "3.10.14"
  }
 },
 "nbformat": 4,
 "nbformat_minor": 2
}

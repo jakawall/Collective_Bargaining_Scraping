{
 "cells": [
  {
   "cell_type": "code",
   "execution_count": 7,
   "metadata": {},
   "outputs": [],
   "source": [
    "import pandas as pd\n",
    "import matplotlib.pyplot as plt"
   ]
  },
  {
   "cell_type": "code",
   "execution_count": 8,
   "metadata": {},
   "outputs": [],
   "source": [
    "all_years_df = pd.read_csv('./data/kv_links_all_years_sample.csv')"
   ]
  },
  {
   "cell_type": "code",
   "execution_count": null,
   "metadata": {},
   "outputs": [],
   "source": [
    "#with the sample data scraped using the assignment script, we only have one year, making the resulting figure somewhat pointless.  \n",
    "\n",
    "#create plot showing contracts per year\n",
    "#observations by year\n",
    "year_counts = all_years_df.groupby('Year').size().reset_index(name='count')\n",
    "\n",
    "plt.figure(figsize=(8, 5))\n",
    "plt.plot(year_counts['Year'], year_counts['count'])\n",
    "\n",
    "# Add labels and title\n",
    "plt.title(\"Number of contracts per Year\")\n",
    "plt.xlabel(\"Year\")\n",
    "plt.ylabel(\"Number of contracts\")\n",
    "\n",
    "plt.savefig(\"./output/contracts_per_year.png\", dpi=300, bbox_inches='tight')\n",
    "\n"
   ]
  }
 ],
 "metadata": {
  "kernelspec": {
   "display_name": "cb_scraping",
   "language": "python",
   "name": "python3"
  },
  "language_info": {
   "codemirror_mode": {
    "name": "ipython",
    "version": 3
   },
   "file_extension": ".py",
   "mimetype": "text/x-python",
   "name": "python",
   "nbconvert_exporter": "python",
   "pygments_lexer": "ipython3",
   "version": "3.12.5"
  }
 },
 "nbformat": 4,
 "nbformat_minor": 2
}
